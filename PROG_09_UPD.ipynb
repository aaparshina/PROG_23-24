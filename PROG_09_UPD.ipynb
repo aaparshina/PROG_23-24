{
 "cells": [
  {
   "cell_type": "markdown",
   "metadata": {},
   "source": [
    "# Программирование на Python \n",
    "\n",
    "# Web-scraping: сбор данных о преподавателях ОП \"Политология\"\n",
    "\n",
    "*Автор: Лика Капустина, НИУ ВШЭ (tg: @lika_kapustina)*\n",
    "\n",
    "**Содержание:**\n",
    "1. [Введение в html и BeautifulSoup](#part1);\n",
    "2. [Работа с requests](#part2)\n",
    "3. [Дополнительные материалы](#parlast).\n",
    "\n",
    "В рамках сегодняшнего семинара мы с вами научимся читать html-разметку, познакомимся с библиотеками `requests` и `BeautifulSoup` и напишем свой маленький проект по сбору данных о страницах преподавателей ОП \"Политология\"."
   ]
  },
  {
   "cell_type": "markdown",
   "metadata": {},
   "source": [
    "<h2>Введение в html и BeautifulSoup.</h2><a name='part1'></a>\n",
    "\n",
    "Что такое html? **HTML - Hyper text markup language – язык, который используется для разметки сайтов.** Выглядит она следующим образом:\n",
    "```\n",
    "<открывающий тег> содержание </закрывающий тег>\n",
    "```\n",
    "\n",
    "Давайте откроем страницу [Ильи Михайловича Локшина](https://www.hse.ru/org/persons/14276397) и изучим её разметку.\n",
    "\n",
    "Как посмотреть разметку?\n",
    "* В **Safari** – `Показать программный код страницы`;\n",
    "* В **Google Chrome** – `Просмотреть код`.\n",
    "\n",
    "<center><b>HTML имеет ряд наиболее распространенных тегов:</b></center>\n",
    "<p></p>\n",
    "<center> \n",
    "    <table>\n",
    "        <tr>\n",
    "            <th><center>Тег</center></th>\n",
    "            <th><center>Значение</center></th>\n",
    "        </tr> \n",
    "        <tr><td><code>title</code></td>\n",
    "            <td><p>Название страницы</p><td></tr>\n",
    "        <tr><td><code>h1</code></td>\n",
    "            <td><p>Заголовок первого уровня</p><td></tr>\n",
    "        <tr><td><code>h2</code></td>\n",
    "            <td><p>Заголовок второго уровня</p><td></tr>\n",
    "        <tr><td><code>h3</code></td>\n",
    "            <td><p>Заголовок третьего уровня</p><td></tr>\n",
    "        <tr><td><code>b</code></td>\n",
    "            <td><p><b>Жирный</b> шрифт</p><td></tr>\n",
    "        <tr><td><code>i</code></td>\n",
    "            <td><p>Текст <i>курсивом</i></p><td></tr>\n",
    "        <tr><td><code>a href=\"URL\"</code></td>\n",
    "            <td><p>Гиперссылка, ведущая на URL</p><td></tr>   \n",
    "        <tr><td><code>p</code></td>\n",
    "            <td><p>Новый параграф</p><td></tr>       \n",
    "        <tr><td><code>span</code></td>\n",
    "            <td><p>Контейнер для контента</p><td></tr>  \n",
    "        <tr><td><code>div</code></td>\n",
    "            <td><p>Базовый блочный элемент</p><td></tr>          \n",
    "    </table>\n",
    "</center>\n",
    "\n",
    "Это только ряд тегов. С остальными наиболее распространенными тегами вы можете ознакомиться по [ссылке](http://www.astro.spbu.ru/staff/afk/Teaching/Help/Tegs.htm)."
   ]
  },
  {
   "cell_type": "markdown",
   "metadata": {},
   "source": [
    "Но как работать с этой самой разметкой?\n",
    "\n",
    "### BeautifulSoup\n",
    "\n",
    "```\n",
    "Красивый суп, столь густой и зеленый, \n",
    "Ожидающий в горячем глубоком блюде! \n",
    "Кто для таких лакомств не наклонился бы? \n",
    "Вечерний суп, красивый суп!\n",
    "```\n",
    "*(c) Льюис Кэролл, \"Алиса в стране чудес\"*\n",
    "\n",
    "Библиотека `BeautifulSoup` названа в честь одноименного стихотворения из повести Льюиса Кэролла \"Алиса в стране чудес\". В сказке это стихотворение произносит персонаж по имени Черепаха Квази (Mock Turtle), а в то время черепаший суп был супом, который подавали как деликатесы на званых ужинах, хотя на самом деле он готовился из говядины.\n",
    "\n",
    "Главная задача BeautifulSoup – придать смысл бессмыслице. Эта библиотека позволяет получить данные из html-разметки, попутно исправляя плохо размеченные html страницы.\n",
    "\n",
    "+ [Документация BeautifulSoup на английском](https://www.crummy.com/software/BeautifulSoup/bs4/doc/);\n",
    "+ [Документация BeautifulSoup на русском](https://www.crummy.com/software/BeautifulSoup/bs4/doc.ru/);\n",
    "\n",
    "Разберем работу с ней на примере. В переменную `html` сохраним кусочек html-разметки со страницы [Ильи Михайловича Локшина](https://www.hse.ru/org/persons/14276397):"
   ]
  },
  {
   "cell_type": "code",
   "execution_count": 30,
   "metadata": {},
   "outputs": [],
   "source": [
    "from bs4 import BeautifulSoup # импортируем одну функцию\n",
    "\n",
    "html = '''\n",
    "<h1 class=\"person-caption\">Локшин Илья Михайлович</h1>\n",
    "<ul class=\"g-ul g-list small\">\n",
    "    <li>\n",
    "        <span class=\"person-appointment-title\">Ученый секретарь:</span>\n",
    "        <a href=\"https://social.hse.ru/\" class=\"link\">Факультет социальных наук</a>\n",
    "    </li>\n",
    "    <li>\n",
    "        <span class=\"person-appointment-title\">Доцент:</span>\n",
    "        <a href=\"https://social.hse.ru/\" class=\"link\">Факультет социальных наук</a>\n",
    "         / \n",
    "        <a href=\"https://social.hse.ru/politics/\" class=\"link\">Департамент политики и управления</a>\n",
    "    </li>\n",
    "</ul>\n",
    "<ul class=\"g-ul g-list small person-employment-addition\">\n",
    "    <li class=\"i\">Начал работать в НИУ ВШЭ в 2011 году.</li>\n",
    "    <li class=\"i\">Научно-педагогический стаж: 12 лет.</li>\n",
    "'''"
   ]
  },
  {
   "cell_type": "markdown",
   "metadata": {},
   "source": [
    "<code><b>BeautifulSoup(html)</b></code>\n",
    "\n",
    "Функция, отвечающая за создание объекта класса `BeautifulSoup`."
   ]
  },
  {
   "cell_type": "code",
   "execution_count": 31,
   "metadata": {},
   "outputs": [
    {
     "name": "stdout",
     "output_type": "stream",
     "text": [
      "<html>\n",
      " <body>\n",
      "  <h1 class=\"person-caption\">\n",
      "   Локшин Илья Михайлович\n",
      "  </h1>\n",
      "  <ul class=\"g-ul g-list small\">\n",
      "   <li>\n",
      "    <span class=\"person-appointment-title\">\n",
      "     Ученый секретарь:\n",
      "    </span>\n",
      "    <a class=\"link\" href=\"https://social.hse.ru/\">\n",
      "     Факультет социальных наук\n",
      "    </a>\n",
      "   </li>\n",
      "   <li>\n",
      "    <span class=\"person-appointment-title\">\n",
      "     Доцент:\n",
      "    </span>\n",
      "    <a class=\"link\" href=\"https://social.hse.ru/\">\n",
      "     Факультет социальных наук\n",
      "    </a>\n",
      "    /\n",
      "    <a class=\"link\" href=\"https://social.hse.ru/politics/\">\n",
      "     Департамент политики и управления\n",
      "    </a>\n",
      "   </li>\n",
      "  </ul>\n",
      "  <ul class=\"g-ul g-list small person-employment-addition\">\n",
      "   <li class=\"i\">\n",
      "    Начал работать в НИУ ВШЭ в 2011 году.\n",
      "   </li>\n",
      "   <li class=\"i\">\n",
      "    Научно-педагогический стаж: 12 лет.\n",
      "   </li>\n",
      "  </ul>\n",
      " </body>\n",
      "</html>\n"
     ]
    }
   ],
   "source": [
    "soup = BeautifulSoup(html) # создаем новый элемент\n",
    "print(soup.prettify()) # эта функция позволяет красиво отформатировать документ"
   ]
  },
  {
   "cell_type": "markdown",
   "metadata": {},
   "source": [
    "<b>Объект <code>Tag</code></b>\n",
    "\n",
    "Основная работа с объектами `BeautifulSoup` ведутся на уровне тегов – `Tag`. **Обсудим несколько способов обращаться к тегам:**\n",
    "\n",
    "<b><code>BeautifulSoup.Tag</code></b> – возвращает **первый элемент** под **тегом `Tag`**"
   ]
  },
  {
   "cell_type": "code",
   "execution_count": 32,
   "metadata": {},
   "outputs": [
    {
     "data": {
      "text/plain": [
       "<a class=\"link\" href=\"https://social.hse.ru/\">Факультет социальных наук</a>"
      ]
     },
     "execution_count": 32,
     "metadata": {},
     "output_type": "execute_result"
    }
   ],
   "source": [
    "soup.a # первый элемент под тегом a"
   ]
  },
  {
   "cell_type": "markdown",
   "metadata": {},
   "source": [
    "<b><code>BeautifulSoup.find('tag')</code></b> – аналогично – возвращает **первый элемент** под **тегом `Tag`**"
   ]
  },
  {
   "cell_type": "code",
   "execution_count": 26,
   "metadata": {},
   "outputs": [
    {
     "data": {
      "text/plain": [
       "<a class=\"link\" href=\"https://social.hse.ru/\">Факультет социальных наук</a>"
      ]
     },
     "execution_count": 26,
     "metadata": {},
     "output_type": "execute_result"
    }
   ],
   "source": [
    "soup.find('a') # первый элемент под тегом а"
   ]
  },
  {
   "cell_type": "markdown",
   "metadata": {},
   "source": [
    "<b><code>BeautifulSoup.find_all('tag')</code></b> – возвращает **все элементы** под **тегом `Tag`**"
   ]
  },
  {
   "cell_type": "code",
   "execution_count": 27,
   "metadata": {},
   "outputs": [
    {
     "data": {
      "text/plain": [
       "[<a class=\"link\" href=\"https://social.hse.ru/\">Факультет социальных наук</a>,\n",
       " <a class=\"link\" href=\"https://social.hse.ru/\">Факультет социальных наук</a>,\n",
       " <a class=\"link\" href=\"https://social.hse.ru/politics/\">Департамент политики и управления</a>]"
      ]
     },
     "execution_count": 27,
     "metadata": {},
     "output_type": "execute_result"
    }
   ],
   "source": [
    "soup.find_all('a') # все элементы под тегом a"
   ]
  },
  {
   "cell_type": "code",
   "execution_count": 35,
   "metadata": {},
   "outputs": [
    {
     "data": {
      "text/plain": [
       "<a class=\"link\" href=\"https://social.hse.ru/\">Факультет социальных наук</a>"
      ]
     },
     "execution_count": 35,
     "metadata": {},
     "output_type": "execute_result"
    }
   ],
   "source": [
    "soup.find_all('a')[0] # тут работает индексирование!"
   ]
  },
  {
   "cell_type": "markdown",
   "metadata": {},
   "source": [
    "<b><code>BeautifulSoup.find_all('tag', {'attribute':'attibute_value'})</code></b> – возвращает **все элементы** под **тегом `Tag`** c атрибутом **`attribute`**, равным **`attribute_value`**. \n",
    "\n",
    "**Тут возникает новый термин – атрибут**.\n",
    "\n",
    "У элементов html может **не быть атрибутов** – сейчас перед нами элемент html под тегом `h3`:\n",
    "\n",
    "```\n",
    "<h3>Образование, учёные степени</h3>\n",
    "```\n",
    "\n",
    "**А может и быть N-ное количество атрибутов:**\n",
    "```\n",
    "<a class=\"link\" href=\"https://social.hse.ru/\">Факультет социальных наук</a>,\n",
    "```\n",
    "Разберем:\n",
    "* Тег – `a`,\n",
    "* Первый атрибут – `class`, значение первого атрибута – `link`;\n",
    "* Второй атрибут – `href` (ведет на ссылку или на часть ссылки), значение второго атрибута – `https://social.hse.ru/`\n",
    "\n",
    "Осуществим поиск элементов под тегом `a` со значением атрибута `class` = `link`:"
   ]
  },
  {
   "cell_type": "code",
   "execution_count": 33,
   "metadata": {},
   "outputs": [
    {
     "data": {
      "text/plain": [
       "[<a class=\"link\" href=\"https://social.hse.ru/\">Факультет социальных наук</a>,\n",
       " <a class=\"link\" href=\"https://social.hse.ru/\">Факультет социальных наук</a>,\n",
       " <a class=\"link\" href=\"https://social.hse.ru/politics/\">Департамент политики и управления</a>]"
      ]
     },
     "execution_count": 33,
     "metadata": {},
     "output_type": "execute_result"
    }
   ],
   "source": [
    "soup.find_all('a', {'class': 'link'}) # все элементы"
   ]
  },
  {
   "cell_type": "markdown",
   "metadata": {},
   "source": [
    "А теперь найдем элементы, ведущие на сайт Факультета социальных наук: элементы под тегом `a` с атрибутом `href`, равного `https://social.hse.ru/`:"
   ]
  },
  {
   "cell_type": "code",
   "execution_count": 34,
   "metadata": {},
   "outputs": [
    {
     "data": {
      "text/plain": [
       "[<a class=\"link\" href=\"https://social.hse.ru/\">Факультет социальных наук</a>,\n",
       " <a class=\"link\" href=\"https://social.hse.ru/\">Факультет социальных наук</a>]"
      ]
     },
     "execution_count": 34,
     "metadata": {},
     "output_type": "execute_result"
    }
   ],
   "source": [
    "soup.find_all('a', {'href': 'https://social.hse.ru/'}) # все элементы"
   ]
  },
  {
   "cell_type": "code",
   "execution_count": 36,
   "metadata": {},
   "outputs": [
    {
     "data": {
      "text/plain": [
       "<a class=\"link\" href=\"https://social.hse.ru/\">Факультет социальных наук</a>"
      ]
     },
     "execution_count": 36,
     "metadata": {},
     "output_type": "execute_result"
    }
   ],
   "source": [
    "soup.find_all('a', {'href': 'https://social.hse.ru/'})[0] # первый элемент"
   ]
  },
  {
   "cell_type": "markdown",
   "metadata": {},
   "source": [
    "**Но как получить полезную информацию из элемента html? Мы можем обратиться к атрибутам элемента:**"
   ]
  },
  {
   "cell_type": "code",
   "execution_count": 37,
   "metadata": {},
   "outputs": [
    {
     "data": {
      "text/plain": [
       "<a class=\"link\" href=\"https://social.hse.ru/\">Факультет социальных наук</a>"
      ]
     },
     "execution_count": 37,
     "metadata": {},
     "output_type": "execute_result"
    }
   ],
   "source": [
    "soup.find_all('a', {'href': 'https://social.hse.ru/'})[0] # один элемент"
   ]
  },
  {
   "cell_type": "code",
   "execution_count": 40,
   "metadata": {},
   "outputs": [
    {
     "data": {
      "text/plain": [
       "{'href': 'https://social.hse.ru/', 'class': ['link']}"
      ]
     },
     "execution_count": 40,
     "metadata": {},
     "output_type": "execute_result"
    }
   ],
   "source": [
    "soup.find_all('a', {'href': 'https://social.hse.ru/'})[0].attrs # объект с атрибутами и значениями атрибутов;"
   ]
  },
  {
   "cell_type": "code",
   "execution_count": 42,
   "metadata": {},
   "outputs": [
    {
     "data": {
      "text/plain": [
       "['link']"
      ]
     },
     "execution_count": 42,
     "metadata": {},
     "output_type": "execute_result"
    }
   ],
   "source": [
    "soup.find_all('a', {'href': 'https://social.hse.ru/'})[0].get('class') # значение атрибута 'class'"
   ]
  },
  {
   "cell_type": "code",
   "execution_count": 43,
   "metadata": {},
   "outputs": [
    {
     "data": {
      "text/plain": [
       "'https://social.hse.ru/'"
      ]
     },
     "execution_count": 43,
     "metadata": {},
     "output_type": "execute_result"
    }
   ],
   "source": [
    "soup.find_all('a', {'href': 'https://social.hse.ru/'})[0].get('href') # значение атрибута 'href'"
   ]
  },
  {
   "cell_type": "code",
   "execution_count": 44,
   "metadata": {},
   "outputs": [
    {
     "data": {
      "text/plain": [
       "'Факультет социальных наук'"
      ]
     },
     "execution_count": 44,
     "metadata": {},
     "output_type": "execute_result"
    }
   ],
   "source": [
    "soup.find_all('a', {'href': 'https://social.hse.ru/'})[0].text # превратим элемент в text"
   ]
  },
  {
   "cell_type": "markdown",
   "metadata": {},
   "source": [
    "**Теперь давайте соединим работу с атрибутами и работу с несколькими элементами:**"
   ]
  },
  {
   "cell_type": "code",
   "execution_count": 46,
   "metadata": {},
   "outputs": [
    {
     "name": "stdout",
     "output_type": "stream",
     "text": [
      "<a class=\"link\" href=\"https://social.hse.ru/\">Факультет социальных наук</a>\n",
      "<a class=\"link\" href=\"https://social.hse.ru/\">Факультет социальных наук</a>\n",
      "<a class=\"link\" href=\"https://social.hse.ru/politics/\">Департамент политики и управления</a>\n"
     ]
    }
   ],
   "source": [
    "# напечатаем все элементы \"a\"\n",
    "for a_element in soup.find_all('a'):\n",
    "    print(a_element)"
   ]
  },
  {
   "cell_type": "code",
   "execution_count": 47,
   "metadata": {},
   "outputs": [
    {
     "name": "stdout",
     "output_type": "stream",
     "text": [
      "Факультет социальных наук\n",
      "Факультет социальных наук\n",
      "Департамент политики и управления\n"
     ]
    }
   ],
   "source": [
    "# напечатаем каждый текст за элементом \"a\"\n",
    "for a_element in soup.find_all('a'):\n",
    "    print(a_element.text)"
   ]
  },
  {
   "cell_type": "code",
   "execution_count": 49,
   "metadata": {},
   "outputs": [
    {
     "name": "stdout",
     "output_type": "stream",
     "text": [
      "https://social.hse.ru/\n",
      "https://social.hse.ru/\n",
      "https://social.hse.ru/politics/\n"
     ]
    }
   ],
   "source": [
    "# напечатаем каждую ссылку за элементом \"a\"\n",
    "for a_element in soup.find_all('a'):\n",
    "    print(a_element.get('href'))"
   ]
  },
  {
   "cell_type": "markdown",
   "metadata": {},
   "source": [
    "<h2>Работа с requests</h2><a name='part2'></a>\n",
    "\n",
    "С обработкой html мы с вами разобрались. Пришло время понять, как получить ту самую html разметку. А это делать мы будем с помощью библиотеки `request`, отправляющей запросы к веб-страницам:"
   ]
  },
  {
   "cell_type": "code",
   "execution_count": 50,
   "metadata": {},
   "outputs": [],
   "source": [
    "import requests # импортируем библиотеку"
   ]
  },
  {
   "cell_type": "code",
   "execution_count": 59,
   "metadata": {},
   "outputs": [
    {
     "data": {
      "text/plain": [
       "<Response [200]>"
      ]
     },
     "execution_count": 59,
     "metadata": {},
     "output_type": "execute_result"
    }
   ],
   "source": [
    "link = 'https://www.hse.ru/ba/political/tutors' # страница c преподавателями\n",
    "requests.get(link) # response [200] означает, что запрос отправлен успешно"
   ]
  },
  {
   "cell_type": "code",
   "execution_count": 60,
   "metadata": {},
   "outputs": [
    {
     "data": {
      "text/plain": [
       "'<!DOCTYPE html>\\n<!-- (c) Art. Lebedev Studio | http://www.artlebedev.com/ -->\\n<html xmlns:perl=\"urn:'"
      ]
     },
     "execution_count": 60,
     "metadata": {},
     "output_type": "execute_result"
    }
   ],
   "source": [
    "link = \"https://www.hse.ru/org/persons/14276397\"\n",
    "html = requests.get(link)\n",
    "html.text[:100] # теперь здесь хранится вся html-разметка страницы"
   ]
  },
  {
   "cell_type": "code",
   "execution_count": 61,
   "metadata": {},
   "outputs": [],
   "source": [
    "soup = BeautifulSoup(html.text) # превратили всю разметку в объект BeautifulSoup"
   ]
  },
  {
   "cell_type": "markdown",
   "metadata": {},
   "source": [
    "<h3>Сбор ссылок с веб-страниц</h3><a name='part2.1'></a>\n",
    "<p></p>\n",
    "<center><b>Задача 1. Сбор ссылок</b></center>\n",
    "\n",
    "**1.1 Перед вами – [ссылка на страницу с преподавателями ОП \"Политология\"](https://www.hse.ru/ba/political/tutors). Сделайте запрос к этой странице, и напечатайте информацию в формате:**\n",
    "\n",
    "```\n",
    "ФИО преподавателя, гипертекстовая ссылка на его страницу\n",
    "```\n",
    "\n",
    "*Например, информация о первых трех преподавателях должна быть напечатана так:*\n",
    "```\n",
    "Авгиненко Анна Дмитриевна /mirror/org/persons/redir/860421659?pl=\n",
    "Акаева Кавсарат Исламовна /mirror/org/persons/redir/305053833?pl=\n",
    "Акоз Кемаль Киванч /mirror/org/persons/redir/223725168?pl=\n",
    "```"
   ]
  },
  {
   "cell_type": "code",
   "execution_count": 69,
   "metadata": {},
   "outputs": [],
   "source": [
    "link = 'https://www.hse.ru/ba/political/tutors'\n",
    "html = requests.get(link)\n",
    "soup = BeautifulSoup(html.text)"
   ]
  },
  {
   "cell_type": "code",
   "execution_count": 70,
   "metadata": {},
   "outputs": [],
   "source": [
    "# YOUR CODE HERE"
   ]
  },
  {
   "cell_type": "markdown",
   "metadata": {},
   "source": [
    "**1.2 Обратите внимание: если использовать только `/mirror/org/persons/redir/860421659?pl=`, вы не откроете новую страницу, потому что это ссылка – неполная. Придумайте, как напечатать полную ссылку на страницу преподавателя:**"
   ]
  },
  {
   "cell_type": "code",
   "execution_count": null,
   "metadata": {},
   "outputs": [],
   "source": [
    "# YOUR CODE HERE"
   ]
  },
  {
   "cell_type": "markdown",
   "metadata": {},
   "source": [
    "**<font color='blue'>1.3 Задача со звездочкой.</font> На сайте ОП \"Политология\" представлена информация не только о преподавателях за 2023/2024 год, но и за другие годы: 2022/2023, 2021/2022, 2020/2021, 2019/2020. Придумайте способ, как напечатать информацию о всех преподавателях за все эти года.**\n",
    "\n",
    "*Подсказка: обратите внимание на ссылки на страницы с разделами **2022/2023, 2021/2022, 2020/2021, 2019/2020**, и используйте вложенные циклы*."
   ]
  },
  {
   "cell_type": "code",
   "execution_count": null,
   "metadata": {},
   "outputs": [],
   "source": [
    "# YOUR CODE HERE"
   ]
  },
  {
   "cell_type": "markdown",
   "metadata": {},
   "source": [
    "<h3>Обработка данных веб-страниц и создание pandas.DataFrame</h3><a name='par2.2'></a>\n",
    "\n",
    "Теперь давайте перейдем к следующему разделу и соберем базовую информацию о преподавателях ОП \"Политология\". Когда мы начинаем работу над проектом, обычно один код (функция) для одного типа страниц (например, страница преподавателя, страница курса, страница статьи) сработает и для других. Но начнем с одной страницы.\n",
    "\n",
    "Возьмем для примера [страницу Ильи Михайловича Локшина](https://www.hse.ru/org/persons/14276397):"
   ]
  },
  {
   "cell_type": "code",
   "execution_count": 72,
   "metadata": {},
   "outputs": [],
   "source": [
    "link = 'https://www.hse.ru/org/persons/14276397' # сохранили ссылку\n",
    "html = requests.get(link) # отправляем запрос\n",
    "soup = BeautifulSoup(html.text) # обрабатываем html"
   ]
  },
  {
   "cell_type": "markdown",
   "metadata": {},
   "source": [
    "Получим ФИО преподавателя:"
   ]
  },
  {
   "cell_type": "code",
   "execution_count": 74,
   "metadata": {},
   "outputs": [
    {
     "data": {
      "text/plain": [
       "<h1 class=\"person-caption\">Локшин Илья Михайлович</h1>"
      ]
     },
     "execution_count": 74,
     "metadata": {},
     "output_type": "execute_result"
    }
   ],
   "source": [
    "soup.find('h1')"
   ]
  },
  {
   "cell_type": "code",
   "execution_count": 75,
   "metadata": {},
   "outputs": [
    {
     "data": {
      "text/plain": [
       "'Локшин Илья Михайлович'"
      ]
     },
     "execution_count": 75,
     "metadata": {},
     "output_type": "execute_result"
    }
   ],
   "source": [
    "soup.find('h1').text"
   ]
  },
  {
   "cell_type": "code",
   "execution_count": 76,
   "metadata": {},
   "outputs": [],
   "source": [
    "name = soup.find('h1')"
   ]
  },
  {
   "cell_type": "markdown",
   "metadata": {},
   "source": [
    "Получим информацию о годе старта работы в Вышке:"
   ]
  },
  {
   "cell_type": "code",
   "execution_count": 84,
   "metadata": {},
   "outputs": [
    {
     "data": {
      "text/plain": [
       "[<li class=\"i\">Начал работать в НИУ ВШЭ в 2011 году.</li>,\n",
       " <li class=\"i\">Научно-педагогический стаж: 12 лет.</li>]"
      ]
     },
     "execution_count": 84,
     "metadata": {},
     "output_type": "execute_result"
    }
   ],
   "source": [
    "soup.find_all('li', {'class': 'i'})"
   ]
  },
  {
   "cell_type": "code",
   "execution_count": 85,
   "metadata": {},
   "outputs": [
    {
     "data": {
      "text/plain": [
       "<li class=\"i\">Начал работать в НИУ ВШЭ в 2011 году.</li>"
      ]
     },
     "execution_count": 85,
     "metadata": {},
     "output_type": "execute_result"
    }
   ],
   "source": [
    "soup.find_all('li', {'class': 'i'})[0]"
   ]
  },
  {
   "cell_type": "code",
   "execution_count": 86,
   "metadata": {},
   "outputs": [
    {
     "data": {
      "text/plain": [
       "'Начал работать в НИУ ВШЭ в 2011 году.'"
      ]
     },
     "execution_count": 86,
     "metadata": {},
     "output_type": "execute_result"
    }
   ],
   "source": [
    "soup.find_all('li', {'class': 'i'})[0].text"
   ]
  },
  {
   "cell_type": "code",
   "execution_count": 87,
   "metadata": {},
   "outputs": [
    {
     "data": {
      "text/plain": [
       "['Начал', 'работать', 'в', 'НИУ', 'ВШЭ', 'в', '2011', 'году.']"
      ]
     },
     "execution_count": 87,
     "metadata": {},
     "output_type": "execute_result"
    }
   ],
   "source": [
    "soup.find_all('li', {'class': 'i'})[0].text.split()"
   ]
  },
  {
   "cell_type": "code",
   "execution_count": 89,
   "metadata": {},
   "outputs": [
    {
     "data": {
      "text/plain": [
       "2011"
      ]
     },
     "execution_count": 89,
     "metadata": {},
     "output_type": "execute_result"
    }
   ],
   "source": [
    "int(soup.find_all('li', {'class': 'i'})[0].text.split()[-2])"
   ]
  },
  {
   "cell_type": "markdown",
   "metadata": {},
   "source": [
    "Соберем информацию про должности:"
   ]
  },
  {
   "cell_type": "code",
   "execution_count": 93,
   "metadata": {},
   "outputs": [
    {
     "data": {
      "text/plain": [
       "[<span class=\"person-appointment-title\">Ученый секретарь:</span>,\n",
       " <span class=\"person-appointment-title\">Доцент:</span>]"
      ]
     },
     "execution_count": 93,
     "metadata": {},
     "output_type": "execute_result"
    }
   ],
   "source": [
    "soup.find_all('span', {'class':'person-appointment-title'})"
   ]
  },
  {
   "cell_type": "code",
   "execution_count": 94,
   "metadata": {},
   "outputs": [
    {
     "name": "stdout",
     "output_type": "stream",
     "text": [
      "Ученый секретарь:\n",
      "Доцент:\n"
     ]
    }
   ],
   "source": [
    "for element in soup.find_all('span', {'class':'person-appointment-title'}):\n",
    "    print(element.text)"
   ]
  },
  {
   "cell_type": "code",
   "execution_count": 98,
   "metadata": {},
   "outputs": [
    {
     "data": {
      "text/plain": [
       "['Ученый секретарь', 'Доцент']"
      ]
     },
     "execution_count": 98,
     "metadata": {},
     "output_type": "execute_result"
    }
   ],
   "source": [
    "work_statuses = []\n",
    "for element in soup.find_all('span', {'class':'person-appointment-title'}):\n",
    "    one_status = element.text.strip(':')\n",
    "    work_statuses.append(one_status)\n",
    "work_statuses"
   ]
  },
  {
   "cell_type": "code",
   "execution_count": 99,
   "metadata": {},
   "outputs": [
    {
     "data": {
      "text/plain": [
       "'Ученый секретарь, Доцент'"
      ]
     },
     "execution_count": 99,
     "metadata": {},
     "output_type": "execute_result"
    }
   ],
   "source": [
    "work_statuses = \", \".join(work_statuses)\n",
    "work_statuses"
   ]
  },
  {
   "cell_type": "markdown",
   "metadata": {},
   "source": [
    "А теперь – преподаваемые курсы:"
   ]
  },
  {
   "cell_type": "code",
   "execution_count": 101,
   "metadata": {},
   "outputs": [
    {
     "ename": "TypeError",
     "evalue": "argument of type 'NoneType' is not iterable",
     "output_type": "error",
     "traceback": [
      "\u001b[0;31m---------------------------------------------------------------------------\u001b[0m",
      "\u001b[0;31mTypeError\u001b[0m                                 Traceback (most recent call last)",
      "\u001b[0;32m/var/folders/lj/_28hw2ts0ys306v1sq_8mxzh0000gn/T/ipykernel_57717/1179805277.py\u001b[0m in \u001b[0;36m<module>\u001b[0;34m\u001b[0m\n\u001b[1;32m      1\u001b[0m \u001b[0;32mfor\u001b[0m \u001b[0ma_element\u001b[0m \u001b[0;32min\u001b[0m \u001b[0msoup\u001b[0m\u001b[0;34m.\u001b[0m\u001b[0mfind_all\u001b[0m\u001b[0;34m(\u001b[0m\u001b[0;34m'a'\u001b[0m\u001b[0;34m)\u001b[0m\u001b[0;34m:\u001b[0m\u001b[0;34m\u001b[0m\u001b[0;34m\u001b[0m\u001b[0m\n\u001b[0;32m----> 2\u001b[0;31m     \u001b[0;32mif\u001b[0m \u001b[0;34m'edu/courses'\u001b[0m \u001b[0;32min\u001b[0m \u001b[0ma_element\u001b[0m\u001b[0;34m.\u001b[0m\u001b[0mget\u001b[0m\u001b[0;34m(\u001b[0m\u001b[0;34m'href'\u001b[0m\u001b[0;34m)\u001b[0m\u001b[0;34m:\u001b[0m\u001b[0;34m\u001b[0m\u001b[0;34m\u001b[0m\u001b[0m\n\u001b[0m\u001b[1;32m      3\u001b[0m         \u001b[0mprint\u001b[0m\u001b[0;34m(\u001b[0m\u001b[0ma_element\u001b[0m\u001b[0;34m)\u001b[0m\u001b[0;34m\u001b[0m\u001b[0;34m\u001b[0m\u001b[0m\n",
      "\u001b[0;31mTypeError\u001b[0m: argument of type 'NoneType' is not iterable"
     ]
    }
   ],
   "source": [
    "for a_element in soup.find_all('a'):\n",
    "    if 'edu/courses' in a_element.get('href'):\n",
    "        print(a_element)"
   ]
  },
  {
   "cell_type": "markdown",
   "metadata": {},
   "source": [
    "Если мы столкнулись с ошибкой выше, можем добавить дополнительную проверку:"
   ]
  },
  {
   "cell_type": "code",
   "execution_count": 104,
   "metadata": {},
   "outputs": [
    {
     "name": "stdout",
     "output_type": "stream",
     "text": [
      "<a class=\"link\" href=\"https://www.hse.ru/edu/courses/835244676\">Большие идеи в политике: актуальность несовременного</a>\n",
      "<a class=\"link\" href=\"https://www.hse.ru/edu/courses/835137696\">41.03.04. Политология\"</a>\n",
      "<a class=\"link\" href=\"https://www.hse.ru/edu/courses/838221925\">01.03.02. Прикладная математика и информатика\"</a>\n",
      "<a class=\"link\" href=\"https://www.hse.ru/edu/courses/835156111\">41.03.04. Политология\"</a>\n",
      "<a class=\"link\" href=\"https://www.hse.ru/edu/courses/838234400\">01.03.02. Прикладная математика и информатика\"</a>\n",
      "<a class=\"link\" href=\"https://www.hse.ru/edu/courses/835157058\">Научно-исследовательский семинар</a>\n",
      "<a class=\"link\" href=\"https://www.hse.ru/edu/courses/835163690\">Research Seminar: Research Design</a>\n",
      "<a class=\"link\" href=\"https://www.hse.ru/edu/courses/835155743\">Современная политика</a>\n",
      "<a class=\"link\" href=\"https://www.hse.ru/edu/courses/570846634\">Большие идеи в политике: актуальность несовременного</a>\n",
      "<a class=\"link\" href=\"https://www.hse.ru/edu/courses/646480491\">41.03.04. Политология\"</a>\n",
      "<a class=\"link\" href=\"https://www.hse.ru/edu/courses/749554398\">01.03.02. Прикладная математика и информатика\"</a>\n",
      "<a class=\"link\" href=\"https://www.hse.ru/edu/courses/749554406\">01.03.02. Прикладная математика и информатика\"</a>\n",
      "<a class=\"link\" href=\"https://www.hse.ru/edu/courses/646508786\">41.03.04. Политология\"</a>\n",
      "<a class=\"link\" href=\"https://www.hse.ru/edu/courses/749634471\">01.03.02. Прикладная математика и информатика\"</a>\n",
      "<a class=\"link\" href=\"https://www.hse.ru/edu/courses/646524826\">Научно-исследовательский семинар</a>\n",
      "<a class=\"link\" href=\"https://www.hse.ru/edu/courses/646515897\">Research Seminar: Research Design</a>\n",
      "<a class=\"link\" href=\"https://www.hse.ru/edu/courses/450828594\">Большие идеи в политике: актуальность несовременного</a>\n",
      "<a class=\"link\" href=\"https://www.hse.ru/edu/courses/450810135\">Введение в современную политическую науку</a>\n",
      "<a class=\"link\" href=\"https://www.hse.ru/edu/courses/470895492\">История политических учений</a>\n",
      "<a class=\"link\" href=\"https://www.hse.ru/edu/courses/470888070\">Категории политической науки</a>\n",
      "<a class=\"link\" href=\"https://www.hse.ru/edu/courses/504360197\">Research Seminar: Research Design</a>\n",
      "<a class=\"link\" href=\"https://www.hse.ru/edu/courses/504360205\">Research Seminar: Research Design</a>\n",
      "<a class=\"link\" href=\"https://www.hse.ru/edu/courses/492551925\">Большие идеи в политике: актуальность несовременного</a>\n",
      "<a class=\"link\" href=\"https://www.hse.ru/edu/courses/384739118\">История политических учений</a>\n",
      "<a class=\"link\" href=\"https://www.hse.ru/edu/courses/384734242\">Категории политической науки</a>\n",
      "<a class=\"link\" href=\"https://www.hse.ru/edu/courses/375286182\">Model Thinking</a>\n",
      "<a class=\"link\" href=\"https://www.hse.ru/edu/courses/343710723\">Большие идеи в политике: актуальность несовременного</a>\n",
      "<a class=\"link\" href=\"https://www.hse.ru/edu/courses/343711658\">Большие идеи в политике: актуальность несовременного</a>\n",
      "<a class=\"link\" href=\"https://www.hse.ru/edu/courses/296793341\">История политических учений</a>\n",
      "<a class=\"link\" href=\"https://www.hse.ru/edu/courses/292662119\">Категории политической науки</a>\n",
      "<a class=\"link\" href=\"https://www.hse.ru/edu/courses/296788720\">Категории политической науки</a>\n"
     ]
    }
   ],
   "source": [
    "for a_element in soup.find_all('a'):\n",
    "    if a_element.get('href') != None and 'edu/courses' in a_element.get('href'):\n",
    "        print(a_element)"
   ]
  },
  {
   "cell_type": "markdown",
   "metadata": {},
   "source": [
    "Теперь напечатаем все названия:"
   ]
  },
  {
   "cell_type": "code",
   "execution_count": 105,
   "metadata": {},
   "outputs": [
    {
     "name": "stdout",
     "output_type": "stream",
     "text": [
      "Большие идеи в политике: актуальность несовременного\n",
      "41.03.04. Политология\"\n",
      "01.03.02. Прикладная математика и информатика\"\n",
      "41.03.04. Политология\"\n",
      "01.03.02. Прикладная математика и информатика\"\n",
      "Научно-исследовательский семинар\n",
      "Research Seminar: Research Design\n",
      "Современная политика\n",
      "Большие идеи в политике: актуальность несовременного\n",
      "41.03.04. Политология\"\n",
      "01.03.02. Прикладная математика и информатика\"\n",
      "01.03.02. Прикладная математика и информатика\"\n",
      "41.03.04. Политология\"\n",
      "01.03.02. Прикладная математика и информатика\"\n",
      "Научно-исследовательский семинар\n",
      "Research Seminar: Research Design\n",
      "Большие идеи в политике: актуальность несовременного\n",
      "Введение в современную политическую науку\n",
      "История политических учений\n",
      "Категории политической науки\n",
      "Research Seminar: Research Design\n",
      "Research Seminar: Research Design\n",
      "Большие идеи в политике: актуальность несовременного\n",
      "История политических учений\n",
      "Категории политической науки\n",
      "Model Thinking\n",
      "Большие идеи в политике: актуальность несовременного\n",
      "Большие идеи в политике: актуальность несовременного\n",
      "История политических учений\n",
      "Категории политической науки\n",
      "Категории политической науки\n"
     ]
    }
   ],
   "source": [
    "for a_element in soup.find_all('a'):\n",
    "    if a_element.get('href') != None and 'edu/courses' in a_element.get('href'):\n",
    "        print(a_element.text)"
   ]
  },
  {
   "cell_type": "markdown",
   "metadata": {},
   "source": [
    "Теперь избавимся от кодов специальностей, чтобы остались только названия курсов:"
   ]
  },
  {
   "cell_type": "code",
   "execution_count": 108,
   "metadata": {},
   "outputs": [
    {
     "name": "stdout",
     "output_type": "stream",
     "text": [
      "Большие идеи в политике: актуальность несовременного\n",
      "Научно-исследовательский семинар\n",
      "Research Seminar: Research Design\n",
      "Современная политика\n",
      "Большие идеи в политике: актуальность несовременного\n",
      "Научно-исследовательский семинар\n",
      "Research Seminar: Research Design\n",
      "Большие идеи в политике: актуальность несовременного\n",
      "Введение в современную политическую науку\n",
      "История политических учений\n",
      "Категории политической науки\n",
      "Research Seminar: Research Design\n",
      "Research Seminar: Research Design\n",
      "Большие идеи в политике: актуальность несовременного\n",
      "История политических учений\n",
      "Категории политической науки\n",
      "Model Thinking\n",
      "Большие идеи в политике: актуальность несовременного\n",
      "Большие идеи в политике: актуальность несовременного\n",
      "История политических учений\n",
      "Категории политической науки\n",
      "Категории политической науки\n"
     ]
    }
   ],
   "source": [
    "courses = []\n",
    "for a_element in soup.find_all('a'):\n",
    "    if a_element.get('href') != None and 'edu/courses' in a_element.get('href'):\n",
    "        if a_element.text[0].isdigit() == False:\n",
    "            print(a_element.text)\n",
    "            courses.append(a_element.text)"
   ]
  },
  {
   "cell_type": "code",
   "execution_count": 111,
   "metadata": {
    "scrolled": true
   },
   "outputs": [
    {
     "data": {
      "text/plain": [
       "['Model Thinking',\n",
       " 'Research Seminar: Research Design',\n",
       " 'Большие идеи в политике: актуальность несовременного',\n",
       " 'Введение в современную политическую науку',\n",
       " 'История политических учений',\n",
       " 'Категории политической науки',\n",
       " 'Научно-исследовательский семинар',\n",
       " 'Современная политика']"
      ]
     },
     "execution_count": 111,
     "metadata": {},
     "output_type": "execute_result"
    }
   ],
   "source": [
    "# получим список курсов\n",
    "sorted(set(courses))"
   ]
  },
  {
   "cell_type": "code",
   "execution_count": 113,
   "metadata": {},
   "outputs": [
    {
     "data": {
      "text/plain": [
       "'Model Thinking, Research Seminar: Research Design, Большие идеи в политике: актуальность несовременного, Введение в современную политическую науку, История политических учений, Категории политической науки, Научно-исследовательский семинар, Современная политика'"
      ]
     },
     "execution_count": 113,
     "metadata": {},
     "output_type": "execute_result"
    }
   ],
   "source": [
    "# и создадим строку с перечислением курсов\n",
    "\", \".join(sorted(set(courses)))"
   ]
  },
  {
   "cell_type": "markdown",
   "metadata": {},
   "source": [
    "Хорошая практика – постепенно оформлять имеющийся у вас код в функции. Вот и мы - создадим функцию, получающую на вход ссылку на страницу преподавателя и возвращающую информацию о нем:"
   ]
  },
  {
   "cell_type": "code",
   "execution_count": 117,
   "metadata": {},
   "outputs": [],
   "source": [
    "def get_info_about_tutor(tutor_link):\n",
    "    # 1. Получаем html-разметку\n",
    "    html = requests.get(tutor_link)\n",
    "    soup = BeautifulSoup(html.text)\n",
    "    \n",
    "    # 2. Получаем атрибуты\n",
    "    name = soup.h1.text\n",
    "    year_start = int(soup.find_all('li', {'class': 'i'})[0].text.split()[-2])\n",
    "    work_statuses = []\n",
    "    for element in soup.find_all('span', {'class':'person-appointment-title'}):\n",
    "        one_status = element.text.strip(':')\n",
    "        work_statuses.append(one_status)\n",
    "    work_statuses = \", \".join(work_statuses)\n",
    "    \n",
    "    courses = []\n",
    "    for a_element in soup.find_all('a'):\n",
    "        if a_element.get('href') != None and 'edu/courses' in a_element.get('href'):\n",
    "            if a_element.text[0].isdigit() == False:\n",
    "                courses.append(a_element.text)\n",
    "    courses = \", \".join(sorted(set(courses)))\n",
    "    # 3. Возвращаем кортеж:\n",
    "    return (name, year_start, work_statuses, courses)"
   ]
  },
  {
   "cell_type": "markdown",
   "metadata": {},
   "source": [
    "Как работает функция?"
   ]
  },
  {
   "cell_type": "code",
   "execution_count": 118,
   "metadata": {
    "scrolled": true
   },
   "outputs": [
    {
     "data": {
      "text/plain": [
       "('Локшин Илья Михайлович',\n",
       " 2011,\n",
       " 'Ученый секретарь, Доцент',\n",
       " 'Model Thinking, Research Seminar: Research Design, Большие идеи в политике: актуальность несовременного, Введение в современную политическую науку, История политических учений, Категории политической науки, Научно-исследовательский семинар, Современная политика')"
      ]
     },
     "execution_count": 118,
     "metadata": {},
     "output_type": "execute_result"
    }
   ],
   "source": [
    "get_info_about_tutor('https://www.hse.ru/org/persons/14276397')"
   ]
  },
  {
   "cell_type": "markdown",
   "metadata": {},
   "source": [
    "Эту же информацию можно превратить в `pandas.DataFrame`:"
   ]
  },
  {
   "cell_type": "code",
   "execution_count": 132,
   "metadata": {},
   "outputs": [
    {
     "data": {
      "text/html": [
       "<div>\n",
       "<style scoped>\n",
       "    .dataframe tbody tr th:only-of-type {\n",
       "        vertical-align: middle;\n",
       "    }\n",
       "\n",
       "    .dataframe tbody tr th {\n",
       "        vertical-align: top;\n",
       "    }\n",
       "\n",
       "    .dataframe thead th {\n",
       "        text-align: right;\n",
       "    }\n",
       "</style>\n",
       "<table border=\"1\" class=\"dataframe\">\n",
       "  <thead>\n",
       "    <tr style=\"text-align: right;\">\n",
       "      <th></th>\n",
       "      <th>0</th>\n",
       "    </tr>\n",
       "  </thead>\n",
       "  <tbody>\n",
       "    <tr>\n",
       "      <th>0</th>\n",
       "      <td>Локшин Илья Михайлович</td>\n",
       "    </tr>\n",
       "    <tr>\n",
       "      <th>1</th>\n",
       "      <td>2011</td>\n",
       "    </tr>\n",
       "    <tr>\n",
       "      <th>2</th>\n",
       "      <td>Ученый секретарь, Доцент</td>\n",
       "    </tr>\n",
       "    <tr>\n",
       "      <th>3</th>\n",
       "      <td>Model Thinking, Research Seminar: Research Des...</td>\n",
       "    </tr>\n",
       "  </tbody>\n",
       "</table>\n",
       "</div>"
      ],
      "text/plain": [
       "                                                   0\n",
       "0                             Локшин Илья Михайлович\n",
       "1                                               2011\n",
       "2                           Ученый секретарь, Доцент\n",
       "3  Model Thinking, Research Seminar: Research Des..."
      ]
     },
     "execution_count": 132,
     "metadata": {},
     "output_type": "execute_result"
    }
   ],
   "source": [
    "pd.DataFrame(get_info_about_tutor('https://www.hse.ru/org/persons/14276397'))"
   ]
  },
  {
   "cell_type": "markdown",
   "metadata": {},
   "source": [
    "Чтобы он выглядел прилично, его можно перевернуть с помощью метода `.transpose()`:"
   ]
  },
  {
   "cell_type": "code",
   "execution_count": 133,
   "metadata": {},
   "outputs": [
    {
     "data": {
      "text/html": [
       "<div>\n",
       "<style scoped>\n",
       "    .dataframe tbody tr th:only-of-type {\n",
       "        vertical-align: middle;\n",
       "    }\n",
       "\n",
       "    .dataframe tbody tr th {\n",
       "        vertical-align: top;\n",
       "    }\n",
       "\n",
       "    .dataframe thead th {\n",
       "        text-align: right;\n",
       "    }\n",
       "</style>\n",
       "<table border=\"1\" class=\"dataframe\">\n",
       "  <thead>\n",
       "    <tr style=\"text-align: right;\">\n",
       "      <th></th>\n",
       "      <th>0</th>\n",
       "      <th>1</th>\n",
       "      <th>2</th>\n",
       "      <th>3</th>\n",
       "    </tr>\n",
       "  </thead>\n",
       "  <tbody>\n",
       "    <tr>\n",
       "      <th>0</th>\n",
       "      <td>Локшин Илья Михайлович</td>\n",
       "      <td>2011</td>\n",
       "      <td>Ученый секретарь, Доцент</td>\n",
       "      <td>Model Thinking, Research Seminar: Research Des...</td>\n",
       "    </tr>\n",
       "  </tbody>\n",
       "</table>\n",
       "</div>"
      ],
      "text/plain": [
       "                        0     1                         2   \n",
       "0  Локшин Илья Михайлович  2011  Ученый секретарь, Доцент  \\\n",
       "\n",
       "                                                   3  \n",
       "0  Model Thinking, Research Seminar: Research Des...  "
      ]
     },
     "execution_count": 133,
     "metadata": {},
     "output_type": "execute_result"
    }
   ],
   "source": [
    "pd.DataFrame(get_info_about_tutor('https://www.hse.ru/org/persons/14276397')).transpose()"
   ]
  },
  {
   "cell_type": "markdown",
   "metadata": {},
   "source": [
    "Используем список с ссылками на страницы преподавателей (если вы не создавали его ранее):"
   ]
  },
  {
   "cell_type": "code",
   "execution_count": 151,
   "metadata": {},
   "outputs": [
    {
     "data": {
      "text/plain": [
       "['https://www.hse.ru//mirror/org/persons/redir/860421659?pl=',\n",
       " 'https://www.hse.ru//mirror/org/persons/redir/305053833?pl=',\n",
       " 'https://www.hse.ru//mirror/org/persons/redir/223725168?pl=',\n",
       " 'https://www.hse.ru//mirror/org/persons/redir/210380431?pl=',\n",
       " 'https://www.hse.ru//mirror/org/persons/redir/61713365?pl=']"
      ]
     },
     "execution_count": 151,
     "metadata": {},
     "output_type": "execute_result"
    }
   ],
   "source": [
    "tutors_links = pd.read_csv('https://github.com/lika1kapustina/POLIT_24/raw/main/tutors_links.txt', header=None)\n",
    "tutors_links = tutors_links.iloc[:, 0].tolist()\n",
    "tutors_links[:5]"
   ]
  },
  {
   "cell_type": "markdown",
   "metadata": {},
   "source": [
    "Теперь с помощью метода `pandas.concat()` по очереди склеим информацию о преподавателях:"
   ]
  },
  {
   "cell_type": "code",
   "execution_count": 136,
   "metadata": {},
   "outputs": [
    {
     "data": {
      "text/html": [
       "<div>\n",
       "<style scoped>\n",
       "    .dataframe tbody tr th:only-of-type {\n",
       "        vertical-align: middle;\n",
       "    }\n",
       "\n",
       "    .dataframe tbody tr th {\n",
       "        vertical-align: top;\n",
       "    }\n",
       "\n",
       "    .dataframe thead th {\n",
       "        text-align: right;\n",
       "    }\n",
       "</style>\n",
       "<table border=\"1\" class=\"dataframe\">\n",
       "  <thead>\n",
       "    <tr style=\"text-align: right;\">\n",
       "      <th></th>\n",
       "      <th>0</th>\n",
       "      <th>1</th>\n",
       "      <th>2</th>\n",
       "      <th>3</th>\n",
       "    </tr>\n",
       "  </thead>\n",
       "  <tbody>\n",
       "    <tr>\n",
       "      <th>0</th>\n",
       "      <td>Авгиненко Анна Дмитриевна</td>\n",
       "      <td>2024</td>\n",
       "      <td>Приглашенный преподаватель</td>\n",
       "      <td>English for General Communication Purposes. In...</td>\n",
       "    </tr>\n",
       "    <tr>\n",
       "      <th>0</th>\n",
       "      <td>Акаева Кавсарат Исламовна</td>\n",
       "      <td>2019</td>\n",
       "      <td>Менеджер</td>\n",
       "      <td>Independent Data Science Test. Advanced Level,...</td>\n",
       "    </tr>\n",
       "    <tr>\n",
       "      <th>0</th>\n",
       "      <td>Акоз Кемаль Киванч</td>\n",
       "      <td>2018</td>\n",
       "      <td>Доцент</td>\n",
       "      <td>Contemporary Economics, International Economic...</td>\n",
       "    </tr>\n",
       "    <tr>\n",
       "      <th>0</th>\n",
       "      <td>Андрюшкина Юлия Александровна</td>\n",
       "      <td>2017</td>\n",
       "      <td>Тьютор, Приглашенный преподаватель</td>\n",
       "      <td>English for General Academic Purposes. Upper-I...</td>\n",
       "    </tr>\n",
       "    <tr>\n",
       "      <th>0</th>\n",
       "      <td>Арбатли Эким</td>\n",
       "      <td>2012</td>\n",
       "      <td>Доцент</td>\n",
       "      <td>Comparative Politics, Current Trends in Politi...</td>\n",
       "    </tr>\n",
       "  </tbody>\n",
       "</table>\n",
       "</div>"
      ],
      "text/plain": [
       "                               0     1                                   2   \n",
       "0      Авгиненко Анна Дмитриевна  2024          Приглашенный преподаватель  \\\n",
       "0      Акаева Кавсарат Исламовна  2019                            Менеджер   \n",
       "0             Акоз Кемаль Киванч  2018                              Доцент   \n",
       "0  Андрюшкина Юлия Александровна  2017  Тьютор, Приглашенный преподаватель   \n",
       "0                   Арбатли Эким  2012                              Доцент   \n",
       "\n",
       "                                                   3  \n",
       "0  English for General Communication Purposes. In...  \n",
       "0  Independent Data Science Test. Advanced Level,...  \n",
       "0  Contemporary Economics, International Economic...  \n",
       "0  English for General Academic Purposes. Upper-I...  \n",
       "0  Comparative Politics, Current Trends in Politi...  "
      ]
     },
     "execution_count": 136,
     "metadata": {},
     "output_type": "execute_result"
    }
   ],
   "source": [
    "all_tutors = pd.DataFrame() # сюда будем добавлять информацию о всех преподавателях\n",
    "\n",
    "for link in tutors_links[:5]:\n",
    "    one_tutor = get_info_about_tutor(link)\n",
    "    one_tutor = pd.DataFrame(one_tutor).transpose()\n",
    "    all_tutors = pd.concat([all_tutors, one_tutor]) # склеиваем датафреймы\n",
    "    \n",
    "all_tutors"
   ]
  },
  {
   "cell_type": "markdown",
   "metadata": {},
   "source": [
    "Напоследок лучше задать имена колонок: "
   ]
  },
  {
   "cell_type": "code",
   "execution_count": 137,
   "metadata": {},
   "outputs": [
    {
     "data": {
      "text/html": [
       "<div>\n",
       "<style scoped>\n",
       "    .dataframe tbody tr th:only-of-type {\n",
       "        vertical-align: middle;\n",
       "    }\n",
       "\n",
       "    .dataframe tbody tr th {\n",
       "        vertical-align: top;\n",
       "    }\n",
       "\n",
       "    .dataframe thead th {\n",
       "        text-align: right;\n",
       "    }\n",
       "</style>\n",
       "<table border=\"1\" class=\"dataframe\">\n",
       "  <thead>\n",
       "    <tr style=\"text-align: right;\">\n",
       "      <th></th>\n",
       "      <th>name</th>\n",
       "      <th>year_start_in_hse</th>\n",
       "      <th>work_status</th>\n",
       "      <th>courses</th>\n",
       "    </tr>\n",
       "  </thead>\n",
       "  <tbody>\n",
       "    <tr>\n",
       "      <th>0</th>\n",
       "      <td>Авгиненко Анна Дмитриевна</td>\n",
       "      <td>2024</td>\n",
       "      <td>Приглашенный преподаватель</td>\n",
       "      <td>English for General Communication Purposes. In...</td>\n",
       "    </tr>\n",
       "    <tr>\n",
       "      <th>0</th>\n",
       "      <td>Акаева Кавсарат Исламовна</td>\n",
       "      <td>2019</td>\n",
       "      <td>Менеджер</td>\n",
       "      <td>Independent Data Science Test. Advanced Level,...</td>\n",
       "    </tr>\n",
       "    <tr>\n",
       "      <th>0</th>\n",
       "      <td>Акоз Кемаль Киванч</td>\n",
       "      <td>2018</td>\n",
       "      <td>Доцент</td>\n",
       "      <td>Contemporary Economics, International Economic...</td>\n",
       "    </tr>\n",
       "    <tr>\n",
       "      <th>0</th>\n",
       "      <td>Андрюшкина Юлия Александровна</td>\n",
       "      <td>2017</td>\n",
       "      <td>Тьютор, Приглашенный преподаватель</td>\n",
       "      <td>English for General Academic Purposes. Upper-I...</td>\n",
       "    </tr>\n",
       "    <tr>\n",
       "      <th>0</th>\n",
       "      <td>Арбатли Эким</td>\n",
       "      <td>2012</td>\n",
       "      <td>Доцент</td>\n",
       "      <td>Comparative Politics, Current Trends in Politi...</td>\n",
       "    </tr>\n",
       "  </tbody>\n",
       "</table>\n",
       "</div>"
      ],
      "text/plain": [
       "                            name year_start_in_hse   \n",
       "0      Авгиненко Анна Дмитриевна              2024  \\\n",
       "0      Акаева Кавсарат Исламовна              2019   \n",
       "0             Акоз Кемаль Киванч              2018   \n",
       "0  Андрюшкина Юлия Александровна              2017   \n",
       "0                   Арбатли Эким              2012   \n",
       "\n",
       "                          work_status   \n",
       "0          Приглашенный преподаватель  \\\n",
       "0                            Менеджер   \n",
       "0                              Доцент   \n",
       "0  Тьютор, Приглашенный преподаватель   \n",
       "0                              Доцент   \n",
       "\n",
       "                                             courses  \n",
       "0  English for General Communication Purposes. In...  \n",
       "0  Independent Data Science Test. Advanced Level,...  \n",
       "0  Contemporary Economics, International Economic...  \n",
       "0  English for General Academic Purposes. Upper-I...  \n",
       "0  Comparative Politics, Current Trends in Politi...  "
      ]
     },
     "execution_count": 137,
     "metadata": {},
     "output_type": "execute_result"
    }
   ],
   "source": [
    "all_tutors.columns = ['name', 'year_start_in_hse', 'work_status', 'courses']\n",
    "all_tutors"
   ]
  },
  {
   "cell_type": "markdown",
   "metadata": {},
   "source": [
    "А если вы хотите получить информацию о всех преподавателях, можем пройтись по всем ссылкам.\n",
    "\n",
    "Дополнительно импортируем модуль `tqdm`, чтобы с его помощью продемонстрировать прогресс-бар и отслеживать процесс парсинга страниц:"
   ]
  },
  {
   "cell_type": "code",
   "execution_count": 145,
   "metadata": {},
   "outputs": [
    {
     "name": "stderr",
     "output_type": "stream",
     "text": [
      "100%|█████████████████████████████████████████| 176/176 [02:19<00:00,  1.26it/s]\n"
     ]
    },
    {
     "data": {
      "text/html": [
       "<div>\n",
       "<style scoped>\n",
       "    .dataframe tbody tr th:only-of-type {\n",
       "        vertical-align: middle;\n",
       "    }\n",
       "\n",
       "    .dataframe tbody tr th {\n",
       "        vertical-align: top;\n",
       "    }\n",
       "\n",
       "    .dataframe thead th {\n",
       "        text-align: right;\n",
       "    }\n",
       "</style>\n",
       "<table border=\"1\" class=\"dataframe\">\n",
       "  <thead>\n",
       "    <tr style=\"text-align: right;\">\n",
       "      <th></th>\n",
       "      <th>name</th>\n",
       "      <th>year_start_in_hse</th>\n",
       "      <th>work_status</th>\n",
       "      <th>courses</th>\n",
       "    </tr>\n",
       "  </thead>\n",
       "  <tbody>\n",
       "    <tr>\n",
       "      <th>0</th>\n",
       "      <td>Авгиненко Анна Дмитриевна</td>\n",
       "      <td>2024</td>\n",
       "      <td>Приглашенный преподаватель</td>\n",
       "      <td>English for General Communication Purposes. In...</td>\n",
       "    </tr>\n",
       "    <tr>\n",
       "      <th>0</th>\n",
       "      <td>Акаева Кавсарат Исламовна</td>\n",
       "      <td>2019</td>\n",
       "      <td>Менеджер</td>\n",
       "      <td>Independent Data Science Test. Advanced Level,...</td>\n",
       "    </tr>\n",
       "    <tr>\n",
       "      <th>0</th>\n",
       "      <td>Акоз Кемаль Киванч</td>\n",
       "      <td>2018</td>\n",
       "      <td>Доцент</td>\n",
       "      <td>Contemporary Economics, International Economic...</td>\n",
       "    </tr>\n",
       "    <tr>\n",
       "      <th>0</th>\n",
       "      <td>Андрюшкина Юлия Александровна</td>\n",
       "      <td>2017</td>\n",
       "      <td>Тьютор, Приглашенный преподаватель</td>\n",
       "      <td>English for General Academic Purposes. Upper-I...</td>\n",
       "    </tr>\n",
       "    <tr>\n",
       "      <th>0</th>\n",
       "      <td>Арбатли Эким</td>\n",
       "      <td>2012</td>\n",
       "      <td>Доцент</td>\n",
       "      <td>Comparative Politics, Current Trends in Politi...</td>\n",
       "    </tr>\n",
       "    <tr>\n",
       "      <th>...</th>\n",
       "      <td>...</td>\n",
       "      <td>...</td>\n",
       "      <td>...</td>\n",
       "      <td>...</td>\n",
       "    </tr>\n",
       "    <tr>\n",
       "      <th>0</th>\n",
       "      <td>Шмелева Александра Алексеевна</td>\n",
       "      <td>2022</td>\n",
       "      <td>Советник, Приглашенный преподаватель</td>\n",
       "      <td>Интегрированные коммуникации</td>\n",
       "    </tr>\n",
       "    <tr>\n",
       "      <th>0</th>\n",
       "      <td>Шминке Дмитрий Алексеевич</td>\n",
       "      <td>2015</td>\n",
       "      <td>заместитель проректора, Заведующий лабораторией</td>\n",
       "      <td>Safe Living Basics, Безопасность жизнедеятельн...</td>\n",
       "    </tr>\n",
       "    <tr>\n",
       "      <th>0</th>\n",
       "      <td>Шустова Елена Дмитриевна</td>\n",
       "      <td>2019</td>\n",
       "      <td>Приглашенный преподаватель, Тьютор, Приглашенн...</td>\n",
       "      <td>English Language, English for General Academic...</td>\n",
       "    </tr>\n",
       "    <tr>\n",
       "      <th>0</th>\n",
       "      <td>Юдина Екатерина Ильинична</td>\n",
       "      <td>2023</td>\n",
       "      <td>Тьютор, Приглашенный преподаватель</td>\n",
       "      <td>English for General Communication Purposes. Up...</td>\n",
       "    </tr>\n",
       "    <tr>\n",
       "      <th>0</th>\n",
       "      <td>Юзбекова Карина Шамильевна</td>\n",
       "      <td>2020</td>\n",
       "      <td>Ведущий эксперт, Аспирант</td>\n",
       "      <td>Comparative Politics, Political Regional Studies</td>\n",
       "    </tr>\n",
       "  </tbody>\n",
       "</table>\n",
       "<p>176 rows × 4 columns</p>\n",
       "</div>"
      ],
      "text/plain": [
       "                             name year_start_in_hse   \n",
       "0       Авгиненко Анна Дмитриевна              2024  \\\n",
       "0       Акаева Кавсарат Исламовна              2019   \n",
       "0              Акоз Кемаль Киванч              2018   \n",
       "0   Андрюшкина Юлия Александровна              2017   \n",
       "0                    Арбатли Эким              2012   \n",
       "..                            ...               ...   \n",
       "0   Шмелева Александра Алексеевна              2022   \n",
       "0       Шминке Дмитрий Алексеевич              2015   \n",
       "0        Шустова Елена Дмитриевна              2019   \n",
       "0       Юдина Екатерина Ильинична              2023   \n",
       "0      Юзбекова Карина Шамильевна              2020   \n",
       "\n",
       "                                          work_status   \n",
       "0                          Приглашенный преподаватель  \\\n",
       "0                                            Менеджер   \n",
       "0                                              Доцент   \n",
       "0                  Тьютор, Приглашенный преподаватель   \n",
       "0                                              Доцент   \n",
       "..                                                ...   \n",
       "0                Советник, Приглашенный преподаватель   \n",
       "0     заместитель проректора, Заведующий лабораторией   \n",
       "0   Приглашенный преподаватель, Тьютор, Приглашенн...   \n",
       "0                  Тьютор, Приглашенный преподаватель   \n",
       "0                           Ведущий эксперт, Аспирант   \n",
       "\n",
       "                                              courses  \n",
       "0   English for General Communication Purposes. In...  \n",
       "0   Independent Data Science Test. Advanced Level,...  \n",
       "0   Contemporary Economics, International Economic...  \n",
       "0   English for General Academic Purposes. Upper-I...  \n",
       "0   Comparative Politics, Current Trends in Politi...  \n",
       "..                                                ...  \n",
       "0                        Интегрированные коммуникации  \n",
       "0   Safe Living Basics, Безопасность жизнедеятельн...  \n",
       "0   English Language, English for General Academic...  \n",
       "0   English for General Communication Purposes. Up...  \n",
       "0    Comparative Politics, Political Regional Studies  \n",
       "\n",
       "[176 rows x 4 columns]"
      ]
     },
     "execution_count": 145,
     "metadata": {},
     "output_type": "execute_result"
    }
   ],
   "source": [
    "import tqdm # импортируем библиотеку\n",
    "\n",
    "all_tutors = pd.DataFrame() # сюда будем добавлять информацию о всех преподавателях\n",
    "\n",
    "for link in tqdm.tqdm(tutors_links): # здесь используем функцию\n",
    "    one_tutor = get_info_about_tutor(link)\n",
    "    one_tutor = pd.DataFrame(one_tutor).transpose()\n",
    "    all_tutors = pd.concat([all_tutors, one_tutor]) # склеиваем датафреймы\n",
    "     \n",
    "all_tutors.columns = ['name', 'year_start_in_hse', 'work_status', 'courses']\n",
    "all_tutors"
   ]
  },
  {
   "cell_type": "markdown",
   "metadata": {},
   "source": [
    "Напоследок сохраним информацию о преподавателях в xlsx файл:"
   ]
  },
  {
   "cell_type": "code",
   "execution_count": 21,
   "metadata": {},
   "outputs": [],
   "source": [
    "all_tutors.to_excel('tutors.xlsx')\n",
    "# all_tutors.to_csv('tutors.csv') # если хотите сохранить в формате csv"
   ]
  },
  {
   "cell_type": "markdown",
   "metadata": {},
   "source": [
    "<h2>Дополнительные материалы</h2><a name='parlast'></a>\n",
    "\n",
    "+ [Документация BeautifulSoup на английском](https://www.crummy.com/software/BeautifulSoup/bs4/doc/);\n",
    "+ [Документация BeautifulSoup на русском](https://www.crummy.com/software/BeautifulSoup/bs4/doc.ru/);\n",
    "+ [Список основных тегов языка HTML](http://www.astro.spbu.ru/staff/afk/Teaching/Help/Tegs.htm);\n",
    "+ [Пишем парсер на Python за 5 минут / Хабр](https://habr.com/ru/sandbox/195434/);"
   ]
  }
 ],
 "metadata": {
  "kernelspec": {
   "display_name": "Python 3 (ipykernel)",
   "language": "python",
   "name": "python3"
  },
  "language_info": {
   "codemirror_mode": {
    "name": "ipython",
    "version": 3
   },
   "file_extension": ".py",
   "mimetype": "text/x-python",
   "name": "python",
   "nbconvert_exporter": "python",
   "pygments_lexer": "ipython3",
   "version": "3.9.13"
  }
 },
 "nbformat": 4,
 "nbformat_minor": 2
}
